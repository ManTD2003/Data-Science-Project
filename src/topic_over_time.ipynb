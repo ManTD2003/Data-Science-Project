{
 "cells": [
  {
   "cell_type": "code",
   "execution_count": 1,
   "metadata": {},
   "outputs": [],
   "source": [
    "import re\n",
    "import pandas as pd\n",
    "\n",
    "# Prepare data\n",
    "trump = pd.read_csv('https://drive.google.com/uc?export=download&id=1xRKHaP-QwACMydlDnyFPEaFdtskJuBa6')\n",
    "trump.text = trump.apply(lambda row: re.sub(r\"http\\S+\", \"\", row.text).lower(), 1)\n",
    "trump.text = trump.apply(lambda row: \" \".join(filter(lambda x:x[0]!=\"@\", row.text.split())), 1)\n",
    "trump.text = trump.apply(lambda row: \" \".join(re.sub(\"[^a-zA-Z]+\", \" \", row.text).split()), 1)\n",
    "trump = trump.loc[(trump.isRetweet == \"f\") & (trump.text != \"\"), :]\n",
    "timestamps = trump.date.to_list()\n",
    "tweets = trump.text.to_list()\n"
   ]
  },
  {
   "cell_type": "code",
   "execution_count": 4,
   "metadata": {},
   "outputs": [
    {
     "data": {
      "text/plain": [
       "45355"
      ]
     },
     "execution_count": 4,
     "metadata": {},
     "output_type": "execute_result"
    }
   ],
   "source": [
    "len(timestamps)"
   ]
  },
  {
   "cell_type": "code",
   "execution_count": 5,
   "metadata": {},
   "outputs": [
    {
     "data": {
      "text/plain": [
       "45355"
      ]
     },
     "execution_count": 5,
     "metadata": {},
     "output_type": "execute_result"
    }
   ],
   "source": [
    "len(tweets)"
   ]
  },
  {
   "cell_type": "code",
   "execution_count": 6,
   "metadata": {},
   "outputs": [
    {
     "name": "stderr",
     "output_type": "stream",
     "text": [
      "2024-11-26 09:08:40,272 - BERTopic - Embedding - Transforming documents to embeddings.\n"
     ]
    },
    {
     "data": {
      "application/vnd.jupyter.widget-view+json": {
       "model_id": "39f8ce49c4794d82b399fcfee5582e6e",
       "version_major": 2,
       "version_minor": 0
      },
      "text/plain": [
       "modules.json:   0%|          | 0.00/349 [00:00<?, ?B/s]"
      ]
     },
     "metadata": {},
     "output_type": "display_data"
    },
    {
     "data": {
      "application/vnd.jupyter.widget-view+json": {
       "model_id": "bc103a1266884c138c8b5162f609ad7a",
       "version_major": 2,
       "version_minor": 0
      },
      "text/plain": [
       "config_sentence_transformers.json:   0%|          | 0.00/116 [00:00<?, ?B/s]"
      ]
     },
     "metadata": {},
     "output_type": "display_data"
    },
    {
     "data": {
      "application/vnd.jupyter.widget-view+json": {
       "model_id": "9683e5eb9d0d4407bc637cfb350f9ab3",
       "version_major": 2,
       "version_minor": 0
      },
      "text/plain": [
       "README.md:   0%|          | 0.00/10.7k [00:00<?, ?B/s]"
      ]
     },
     "metadata": {},
     "output_type": "display_data"
    },
    {
     "data": {
      "application/vnd.jupyter.widget-view+json": {
       "model_id": "7284f434ca1f417d83f0dc6c0070f853",
       "version_major": 2,
       "version_minor": 0
      },
      "text/plain": [
       "sentence_bert_config.json:   0%|          | 0.00/53.0 [00:00<?, ?B/s]"
      ]
     },
     "metadata": {},
     "output_type": "display_data"
    },
    {
     "data": {
      "application/vnd.jupyter.widget-view+json": {
       "model_id": "4f65b191729941a18565f63aa6776055",
       "version_major": 2,
       "version_minor": 0
      },
      "text/plain": [
       "config.json:   0%|          | 0.00/612 [00:00<?, ?B/s]"
      ]
     },
     "metadata": {},
     "output_type": "display_data"
    },
    {
     "data": {
      "application/vnd.jupyter.widget-view+json": {
       "model_id": "30dac2d477cc4216a98bb45227e1a453",
       "version_major": 2,
       "version_minor": 0
      },
      "text/plain": [
       "model.safetensors:   0%|          | 0.00/90.9M [00:00<?, ?B/s]"
      ]
     },
     "metadata": {},
     "output_type": "display_data"
    },
    {
     "data": {
      "application/vnd.jupyter.widget-view+json": {
       "model_id": "2182adfc20d64c2e9d2752158109c945",
       "version_major": 2,
       "version_minor": 0
      },
      "text/plain": [
       "tokenizer_config.json:   0%|          | 0.00/350 [00:00<?, ?B/s]"
      ]
     },
     "metadata": {},
     "output_type": "display_data"
    },
    {
     "data": {
      "application/vnd.jupyter.widget-view+json": {
       "model_id": "b2ba52a315114db8997699cea8a4e53a",
       "version_major": 2,
       "version_minor": 0
      },
      "text/plain": [
       "vocab.txt:   0%|          | 0.00/232k [00:00<?, ?B/s]"
      ]
     },
     "metadata": {},
     "output_type": "display_data"
    },
    {
     "data": {
      "application/vnd.jupyter.widget-view+json": {
       "model_id": "07c2be77d996437488dc9187bd842dc3",
       "version_major": 2,
       "version_minor": 0
      },
      "text/plain": [
       "tokenizer.json:   0%|          | 0.00/466k [00:00<?, ?B/s]"
      ]
     },
     "metadata": {},
     "output_type": "display_data"
    },
    {
     "data": {
      "application/vnd.jupyter.widget-view+json": {
       "model_id": "a2b7a10056754123bc2e1415793001c6",
       "version_major": 2,
       "version_minor": 0
      },
      "text/plain": [
       "special_tokens_map.json:   0%|          | 0.00/112 [00:00<?, ?B/s]"
      ]
     },
     "metadata": {},
     "output_type": "display_data"
    },
    {
     "data": {
      "application/vnd.jupyter.widget-view+json": {
       "model_id": "9f77169bcaba471ca8f66762451bdf69",
       "version_major": 2,
       "version_minor": 0
      },
      "text/plain": [
       "1_Pooling/config.json:   0%|          | 0.00/190 [00:00<?, ?B/s]"
      ]
     },
     "metadata": {},
     "output_type": "display_data"
    },
    {
     "data": {
      "application/vnd.jupyter.widget-view+json": {
       "model_id": "1b806be220be447da3a2b4aa7250e0bd",
       "version_major": 2,
       "version_minor": 0
      },
      "text/plain": [
       "Batches:   0%|          | 0/1418 [00:00<?, ?it/s]"
      ]
     },
     "metadata": {},
     "output_type": "display_data"
    },
    {
     "name": "stderr",
     "output_type": "stream",
     "text": [
      "2024-11-26 09:09:20,804 - BERTopic - Embedding - Completed ✓\n",
      "2024-11-26 09:09:20,805 - BERTopic - Dimensionality - Fitting the dimensionality reduction algorithm\n",
      "2024-11-26 09:09:53,078 - BERTopic - Dimensionality - Completed ✓\n",
      "2024-11-26 09:09:53,079 - BERTopic - Cluster - Start clustering the reduced embeddings\n",
      "huggingface/tokenizers: The current process just got forked, after parallelism has already been used. Disabling parallelism to avoid deadlocks...\n",
      "To disable this warning, you can either:\n",
      "\t- Avoid using `tokenizers` before the fork if possible\n",
      "\t- Explicitly set the environment variable TOKENIZERS_PARALLELISM=(true | false)\n",
      "huggingface/tokenizers: The current process just got forked, after parallelism has already been used. Disabling parallelism to avoid deadlocks...\n",
      "To disable this warning, you can either:\n",
      "\t- Avoid using `tokenizers` before the fork if possible\n",
      "\t- Explicitly set the environment variable TOKENIZERS_PARALLELISM=(true | false)\n",
      "huggingface/tokenizers: The current process just got forked, after parallelism has already been used. Disabling parallelism to avoid deadlocks...\n",
      "To disable this warning, you can either:\n",
      "\t- Avoid using `tokenizers` before the fork if possible\n",
      "\t- Explicitly set the environment variable TOKENIZERS_PARALLELISM=(true | false)\n",
      "huggingface/tokenizers: The current process just got forked, after parallelism has already been used. Disabling parallelism to avoid deadlocks...\n",
      "To disable this warning, you can either:\n",
      "\t- Avoid using `tokenizers` before the fork if possible\n",
      "\t- Explicitly set the environment variable TOKENIZERS_PARALLELISM=(true | false)\n",
      "huggingface/tokenizers: The current process just got forked, after parallelism has already been used. Disabling parallelism to avoid deadlocks...\n",
      "To disable this warning, you can either:\n",
      "\t- Avoid using `tokenizers` before the fork if possible\n",
      "\t- Explicitly set the environment variable TOKENIZERS_PARALLELISM=(true | false)\n",
      "2024-11-26 09:09:55,551 - BERTopic - Cluster - Completed ✓\n",
      "2024-11-26 09:09:55,568 - BERTopic - Representation - Extracting topics from clusters using representation models.\n",
      "2024-11-26 09:09:56,313 - BERTopic - Representation - Completed ✓\n"
     ]
    }
   ],
   "source": [
    "from bertopic import BERTopic\n",
    "\n",
    "topic_model = BERTopic(verbose=True)\n",
    "topics, probs = topic_model.fit_transform(tweets)\n"
   ]
  },
  {
   "cell_type": "code",
   "execution_count": 7,
   "metadata": {},
   "outputs": [
    {
     "name": "stderr",
     "output_type": "stream",
     "text": [
      "20it [00:05,  3.38it/s]\n"
     ]
    }
   ],
   "source": [
    "topics_over_time = topic_model.topics_over_time(tweets, timestamps, nr_bins=20)"
   ]
  },
  {
   "cell_type": "code",
   "execution_count": 9,
   "metadata": {},
   "outputs": [
    {
     "data": {
      "application/vnd.plotly.v1+json": {
       "config": {
        "plotlyServerURL": "https://plot.ly"
       },
       "data": [
        {
         "hoverinfo": "text",
         "hovertext": [
          "<b>Topic 0</b><br>Words: wasserman, schultz, debbie, listen, wonder",
          "<b>Topic 0</b><br>Words: puppy, harsh, huma, huffington, pull",
          "<b>Topic 0</b><br>Words: slack, ideological, warrencasselljr, strategic, ruin",
          "<b>Topic 0</b><br>Words: rebels, perpetual, mozek, barontoutenberg, cited",
          "<b>Topic 0</b><br>Words: mikem, jrmarsy, gootecks, maarten, heck",
          "<b>Topic 0</b><br>Words: rounded, dirtmeister, insanity, pellscuse, brightest",
          "<b>Topic 0</b><br>Words: hillary, clinton, huma, she, abedin",
          "<b>Topic 0</b><br>Words: hillary, clinton, crooked, she, sanders",
          "<b>Topic 0</b><br>Words: hillary, crooked, clinton, bernie, she",
          "<b>Topic 0</b><br>Words: hillary, clinton, perez, bernie, dnc",
          "<b>Topic 0</b><br>Words: hillary, crooked, clinton, mails, emails",
          "<b>Topic 0</b><br>Words: hillary, clinton, emails, crooked, fbi",
          "<b>Topic 0</b><br>Words: foundation, clinton, hillary, crooked, monetized",
          "<b>Topic 0</b><br>Words: emails, hillary, crooked, acid, washed",
          "<b>Topic 0</b><br>Words: bernie, sanders, nomination, hillary, crooked",
          "<b>Topic 0</b><br>Words: phones, crooked, hillary, wiped, emails"
         ],
         "marker": {
          "color": "#E69F00"
         },
         "mode": "lines",
         "name": "0_hillary_crooked_clinton_bernie",
         "type": "scatter",
         "x": [
          "2011-09-05T03:52:25.600000",
          "2012-04-05T12:06:55.750000",
          "2012-11-04T20:21:25.900000",
          "2013-06-06T04:35:56.050000",
          "2014-01-05T12:50:26.200000",
          "2014-08-06T21:04:56.350000",
          "2015-03-08T05:19:26.500000",
          "2015-10-07T13:33:56.650000",
          "2016-05-07T21:48:26.800000",
          "2016-12-07T06:02:56.950000",
          "2017-07-08T14:17:27.100000",
          "2018-02-06T22:31:57.250000",
          "2018-09-08T06:46:27.400000",
          "2019-04-09T15:00:57.550000",
          "2019-11-08T23:15:27.700000",
          "2020-06-09T07:29:57.850000"
         ],
         "y": [
          1,
          3,
          6,
          4,
          4,
          4,
          21,
          96,
          401,
          13,
          23,
          12,
          5,
          19,
          22,
          10
         ]
        },
        {
         "hoverinfo": "text",
         "hovertext": [
          "<b>Topic 1</b><br>Words: begun, schedule, ahead, international, scotland",
          "<b>Topic 1</b><br>Words: golf, tngc, scotland, course, dunes",
          "<b>Topic 1</b><br>Words: golf, westchester, channel, club, internatonal",
          "<b>Topic 1</b><br>Words: golf, channel, fabulous, course, mangold",
          "<b>Topic 1</b><br>Words: golf, club, formerly, escape, relax",
          "<b>Topic 1</b><br>Words: golf, scotland, course, links, international",
          "<b>Topic 1</b><br>Words: golf, course, scotland, club, aberdeen",
          "<b>Topic 1</b><br>Words: golf, course, scotland, links, played",
          "<b>Topic 1</b><br>Words: golf, course, scotland, turnberry, courses",
          "<b>Topic 1</b><br>Words: golf, course, scotland, turnberry, club",
          "<b>Topic 1</b><br>Words: golf, course, turnberry, scotland, ferry",
          "<b>Topic 1</b><br>Words: bandon, turnberry, golf, commercials, cheats",
          "<b>Topic 1</b><br>Words: turnberry, scotland, golf, course, opening",
          "<b>Topic 1</b><br>Words: covfefe, meaning, figure, enjoy, true",
          "<b>Topic 1</b><br>Words: dustin, woods, jupiter, golf, johnson",
          "<b>Topic 1</b><br>Words: tiger, turnberry, golf, scotland, helsinki",
          "<b>Topic 1</b><br>Words: furthers, anywhere, relationship, perhaps, golf",
          "<b>Topic 1</b><br>Words: turnberry, overnight, filling, crew, fuel",
          "<b>Topic 1</b><br>Words: golf, teeing, fume, gruesome, played",
          "<b>Topic 1</b><br>Words: exercise, golf, exhaustion, rovell, jack"
         ],
         "marker": {
          "color": "#56B4E9"
         },
         "mode": "lines",
         "name": "1_golf_course_scotland_turnberry",
         "type": "scatter",
         "x": [
          "2009-04-30T12:30:07.597000",
          "2009-12-04T03:08:55.150000",
          "2010-07-05T11:23:25.300000",
          "2011-02-03T19:37:55.450000",
          "2011-09-05T03:52:25.600000",
          "2012-04-05T12:06:55.750000",
          "2012-11-04T20:21:25.900000",
          "2013-06-06T04:35:56.050000",
          "2014-01-05T12:50:26.200000",
          "2014-08-06T21:04:56.350000",
          "2015-03-08T05:19:26.500000",
          "2015-10-07T13:33:56.650000",
          "2016-05-07T21:48:26.800000",
          "2016-12-07T06:02:56.950000",
          "2017-07-08T14:17:27.100000",
          "2018-02-06T22:31:57.250000",
          "2018-09-08T06:46:27.400000",
          "2019-04-09T15:00:57.550000",
          "2019-11-08T23:15:27.700000",
          "2020-06-09T07:29:57.850000"
         ],
         "y": [
          1,
          9,
          6,
          7,
          5,
          27,
          82,
          102,
          170,
          116,
          75,
          6,
          16,
          1,
          1,
          3,
          1,
          2,
          4,
          3
         ]
        },
        {
         "hoverinfo": "text",
         "hovertext": [
          "<b>Topic 2</b><br>Words: punished, music, treat, industry, views",
          "<b>Topic 2</b><br>Words: amp, fuel, ringing, erraticslk, marketeer",
          "<b>Topic 2</b><br>Words: amp, glenfiddich, murray, scot, forbes",
          "<b>Topic 2</b><br>Words: amp, noise, customers, radio, eve",
          "<b>Topic 2</b><br>Words: amp, eggs, radio, resilience, vision",
          "<b>Topic 2</b><br>Words: amp, int, loeb, ward, hit",
          "<b>Topic 2</b><br>Words: amp, bdean, neilyoung, silentmajority, well",
          "<b>Topic 2</b><br>Words: amp, llisav, biloxi, insightful, safe",
          "<b>Topic 2</b><br>Words: amp, shoulder, safe, together, unity",
          "<b>Topic 2</b><br>Words: hire, amp, sheriffs, teacher, american",
          "<b>Topic 2</b><br>Words: amp, prosper, heel, heal, rebuild",
          "<b>Topic 2</b><br>Words: flexibility, amp, senjohnbarrasso, raves, infrastructureinamerica",
          "<b>Topic 2</b><br>Words: wren, vigor, dovish, amp, bozo",
          "<b>Topic 2</b><br>Words: amp, studio, tuned, equipment, bishop",
          "<b>Topic 2</b><br>Words: amp, tap, competitive, prevail, safely",
          "<b>Topic 2</b><br>Words: amp, lynda, daytime, suburban, tech"
         ],
         "marker": {
          "color": "#009E73"
         },
         "mode": "lines",
         "name": "2_amp_better_smart_think",
         "type": "scatter",
         "x": [
          "2011-09-05T03:52:25.600000",
          "2012-04-05T12:06:55.750000",
          "2012-11-04T20:21:25.900000",
          "2013-06-06T04:35:56.050000",
          "2014-01-05T12:50:26.200000",
          "2014-08-06T21:04:56.350000",
          "2015-03-08T05:19:26.500000",
          "2015-10-07T13:33:56.650000",
          "2016-05-07T21:48:26.800000",
          "2016-12-07T06:02:56.950000",
          "2017-07-08T14:17:27.100000",
          "2018-02-06T22:31:57.250000",
          "2018-09-08T06:46:27.400000",
          "2019-04-09T15:00:57.550000",
          "2019-11-08T23:15:27.700000",
          "2020-06-09T07:29:57.850000"
         ],
         "y": [
          1,
          31,
          101,
          57,
          65,
          64,
          72,
          52,
          33,
          17,
          28,
          9,
          6,
          22,
          31,
          22
         ]
        },
        {
         "hoverinfo": "text",
         "hovertext": [
          "<b>Topic 3</b><br>Words: reputatio, straighten, publicity, personal, losers",
          "<b>Topic 3</b><br>Words: huffington, aspirin, pareene, leakage, press",
          "<b>Topic 3</b><br>Words: paper, media, huffingtonpost, snooze, story",
          "<b>Topic 3</b><br>Words: publicity, dont, media, neg, nicktryit",
          "<b>Topic 3</b><br>Words: buzzfeed, dishonest, ridiculed, amspec, lambasting",
          "<b>Topic 3</b><br>Words: distorts, newmexicoroni, newyorkpost, neutrality, satirical",
          "<b>Topic 3</b><br>Words: media, failing, dishonest, journalists, newspaper",
          "<b>Topic 3</b><br>Words: failing, media, paper, dishonest, editorial",
          "<b>Topic 3</b><br>Words: failing, dishonest, media, story, sources",
          "<b>Topic 3</b><br>Words: media, fake, failing, sources, news",
          "<b>Topic 3</b><br>Words: fake, media, news, dishonest, sources",
          "<b>Topic 3</b><br>Words: media, fake, sources, anonymous, news",
          "<b>Topic 3</b><br>Words: media, fake, enemy, news, dishonest",
          "<b>Topic 3</b><br>Words: media, fake, news, corrupt, failing",
          "<b>Topic 3</b><br>Words: lamestream, media, fake, sources, news",
          "<b>Topic 3</b><br>Words: media, fake, news, lamestream, sources"
         ],
         "marker": {
          "color": "#F0E442"
         },
         "mode": "lines",
         "name": "3_media_fake_news_failing",
         "type": "scatter",
         "x": [
          "2011-02-03T19:37:55.450000",
          "2012-04-05T12:06:55.750000",
          "2012-11-04T20:21:25.900000",
          "2013-06-06T04:35:56.050000",
          "2014-01-05T12:50:26.200000",
          "2014-08-06T21:04:56.350000",
          "2015-03-08T05:19:26.500000",
          "2015-10-07T13:33:56.650000",
          "2016-05-07T21:48:26.800000",
          "2016-12-07T06:02:56.950000",
          "2017-07-08T14:17:27.100000",
          "2018-02-06T22:31:57.250000",
          "2018-09-08T06:46:27.400000",
          "2019-04-09T15:00:57.550000",
          "2019-11-08T23:15:27.700000",
          "2020-06-09T07:29:57.850000"
         ],
         "y": [
          1,
          10,
          26,
          14,
          11,
          6,
          22,
          37,
          53,
          42,
          44,
          46,
          49,
          89,
          55,
          54
         ]
        },
        {
         "hoverinfo": "text",
         "hovertext": [
          "<b>Topic 4</b><br>Words: celebrity, apprentice, appearing, blog, lessons",
          "<b>Topic 4</b><br>Words: apprentice, celebrity, casting, nbc, sunday",
          "<b>Topic 4</b><br>Words: apprentice, episode, nbc, tune, celebrity",
          "<b>Topic 4</b><br>Words: apprentice, celebrity, sunday, episode, nbc",
          "<b>Topic 4</b><br>Words: apprentice, celebrity, sunday, episode, download",
          "<b>Topic 4</b><br>Words: apprentice, celebrity, nbc, finale, season",
          "<b>Topic 4</b><br>Words: apprentice, celebrity, nbc, season, episode",
          "<b>Topic 4</b><br>Words: apprentice, celebrity, season, jurciuoli, casting",
          "<b>Topic 4</b><br>Words: apprentice, celebrity, season, nbc, shooting",
          "<b>Topic 4</b><br>Words: apprentice, celebrity, season, episode, episodes",
          "<b>Topic 4</b><br>Words: apprentice, celebrity, nbc, season, penn",
          "<b>Topic 4</b><br>Words: alisa, soloman, ofccadjust, dvr, writer",
          "<b>Topic 4</b><br>Words: devote, conceived, stake, apprentice, except",
          "<b>Topic 4</b><br>Words: vegasstrong, getter, stage, apprentice, las",
          "<b>Topic 4</b><br>Words: apprentice, vocabulary, markburnetttv, attributed, burnett",
          "<b>Topic 4</b><br>Words: upfront, apprentice, profusely, thanked, lineup",
          "<b>Topic 4</b><br>Words: mariabartiromo, guests, impeachment, talk, fantastic",
          "<b>Topic 4</b><br>Words: pme, exposing, corruption, miss, course"
         ],
         "marker": {
          "color": "#D55E00"
         },
         "mode": "lines",
         "name": "4_apprentice_celebrity_nbc_season",
         "type": "scatter",
         "x": [
          "2009-04-30T12:30:07.597000",
          "2009-12-04T03:08:55.150000",
          "2010-07-05T11:23:25.300000",
          "2011-02-03T19:37:55.450000",
          "2011-09-05T03:52:25.600000",
          "2012-04-05T12:06:55.750000",
          "2012-11-04T20:21:25.900000",
          "2013-06-06T04:35:56.050000",
          "2014-01-05T12:50:26.200000",
          "2014-08-06T21:04:56.350000",
          "2015-03-08T05:19:26.500000",
          "2015-10-07T13:33:56.650000",
          "2016-12-07T06:02:56.950000",
          "2017-07-08T14:17:27.100000",
          "2018-02-06T22:31:57.250000",
          "2019-04-09T15:00:57.550000",
          "2019-11-08T23:15:27.700000",
          "2020-06-09T07:29:57.850000"
         ],
         "y": [
          2,
          10,
          23,
          14,
          11,
          11,
          114,
          30,
          36,
          155,
          18,
          2,
          1,
          1,
          2,
          2,
          1,
          1
         ]
        },
        {
         "hoverinfo": "text",
         "hovertext": [
          "<b>Topic 5</b><br>Words: run, please, president, libbygaj, avedders",
          "<b>Topic 5</b><br>Words: run, please, president, runs, vote",
          "<b>Topic 5</b><br>Words: run, please, president, vote, need",
          "<b>Topic 5</b><br>Words: run, please, president, vote, runs",
          "<b>Topic 5</b><br>Words: run, please, president, needs, vote",
          "<b>Topic 5</b><br>Words: revdojoe, julieruot, brendan, jakistheman, lorewestphal",
          "<b>Topic 5</b><br>Words: kathyceurter, jimvitari, poles, crush, mate",
          "<b>Topic 5</b><br>Words: amash, maintaining, stein, jill, seat"
         ],
         "marker": {
          "color": "#0072B2"
         },
         "mode": "lines",
         "name": "5_run_please_president_vote",
         "type": "scatter",
         "x": [
          "2012-11-04T20:21:25.900000",
          "2013-06-06T04:35:56.050000",
          "2014-01-05T12:50:26.200000",
          "2014-08-06T21:04:56.350000",
          "2015-03-08T05:19:26.500000",
          "2015-10-07T13:33:56.650000",
          "2016-05-07T21:48:26.800000",
          "2019-11-08T23:15:27.700000"
         ],
         "y": [
          15,
          49,
          79,
          145,
          89,
          11,
          2,
          1
         ]
        },
        {
         "hoverinfo": "text",
         "hovertext": [
          "<b>Topic 6</b><br>Words: ames, straw, outcome, poll, cast",
          "<b>Topic 6</b><br>Words: cares, poll, straw, viable, improving",
          "<b>Topic 6</b><br>Words: poll, polls, numbers, polling, subsequent",
          "<b>Topic 6</b><br>Words: margin, percent, delivered, et, local",
          "<b>Topic 6</b><br>Words: nautilus, baffling, texan, santorum, anymore",
          "<b>Topic 6</b><br>Words: mormanc, krisinal, poll, tubes, participate",
          "<b>Topic 6</b><br>Words: robocall, bentrolling, pols, landslide, lead",
          "<b>Topic 6</b><br>Words: poll, polls, lead, leads, carson",
          "<b>Topic 6</b><br>Words: poll, polls, carson, lead, rubio",
          "<b>Topic 6</b><br>Words: poll, imwithyou, polls, americafirst, numbers",
          "<b>Topic 6</b><br>Words: favorably, viewed, poll, eu, wsj",
          "<b>Topic 6</b><br>Words: business, beginning, approval, highest, poll",
          "<b>Topic 6</b><br>Words: poll, recheck, straw, includes, abe",
          "<b>Topic 6</b><br>Words: poll, inions, fd, peep, polls",
          "<b>Topic 6</b><br>Words: poll, lead, numbers, oann, polls",
          "<b>Topic 6</b><br>Words: poll, polls, points, pollak, predicts"
         ],
         "marker": {
          "color": "#CC79A7"
         },
         "mode": "lines",
         "name": "6_poll_polls_lead_carson",
         "type": "scatter",
         "x": [
          "2011-02-03T19:37:55.450000",
          "2011-09-05T03:52:25.600000",
          "2012-04-05T12:06:55.750000",
          "2012-11-04T20:21:25.900000",
          "2013-06-06T04:35:56.050000",
          "2014-01-05T12:50:26.200000",
          "2014-08-06T21:04:56.350000",
          "2015-03-08T05:19:26.500000",
          "2015-10-07T13:33:56.650000",
          "2016-05-07T21:48:26.800000",
          "2016-12-07T06:02:56.950000",
          "2017-07-08T14:17:27.100000",
          "2018-02-06T22:31:57.250000",
          "2019-04-09T15:00:57.550000",
          "2019-11-08T23:15:27.700000",
          "2020-06-09T07:29:57.850000"
         ],
         "y": [
          2,
          3,
          8,
          1,
          3,
          3,
          2,
          100,
          179,
          39,
          2,
          1,
          4,
          5,
          10,
          10
         ]
        },
        {
         "hoverinfo": "text",
         "hovertext": [
          "<b>Topic 7</b><br>Words: thanks, fifth, dope, appreciate, think",
          "<b>Topic 7</b><br>Words: thanks, fifth, dope, appreciate, think",
          "<b>Topic 7</b><br>Words: thanks, fifth, dope, appreciate, think",
          "<b>Topic 7</b><br>Words: thanks, fifth, dope, appreciate, think",
          "<b>Topic 7</b><br>Words: thanks, fifth, dope, appreciate, think",
          "<b>Topic 7</b><br>Words: thanks, fifth, dope, appreciate, think",
          "<b>Topic 7</b><br>Words: thanks, fifth, dope, appreciate, think"
         ],
         "marker": {
          "color": "#E69F00"
         },
         "mode": "lines",
         "name": "7_thanks_fifth_dope_appreciate",
         "type": "scatter",
         "x": [
          "2012-04-05T12:06:55.750000",
          "2012-11-04T20:21:25.900000",
          "2013-06-06T04:35:56.050000",
          "2014-01-05T12:50:26.200000",
          "2015-03-08T05:19:26.500000",
          "2015-10-07T13:33:56.650000",
          "2019-04-09T15:00:57.550000"
         ],
         "y": [
          6,
          227,
          111,
          1,
          14,
          3,
          2
         ]
        },
        {
         "hoverinfo": "text",
         "hovertext": [
          "<b>Topic 8</b><br>Words: tylar, thanks, thank, david, dan",
          "<b>Topic 8</b><br>Words: thanks, nathalie, chris, hi, thank",
          "<b>Topic 8</b><br>Words: thanks, christine, jakepinz, joselyn, karlie",
          "<b>Topic 8</b><br>Words: thanks, charismatic, lapenta, xena, andrewkreig",
          "<b>Topic 8</b><br>Words: perilla, heidimac, writing, andy, simply",
          "<b>Topic 8</b><br>Words: andydean, greta, anytime, laura, lou",
          "<b>Topic 8</b><br>Words: repchriscollins, newt, dave, laura, larry",
          "<b>Topic 8</b><br>Words: rep, newt, silk, sharing, amy",
          "<b>Topic 8</b><br>Words: noticing, jacob, nicole, maria, thank",
          "<b>Topic 8</b><br>Words: sbagala, nfib, kanye, cool, fair",
          "<b>Topic 8</b><br>Words: jeffress, david, charlie, mary, dr",
          "<b>Topic 8</b><br>Words: thank, ari, thanks, nraam, potusinjapan",
          "<b>Topic 8</b><br>Words: thank, thanks, terrence, david, thankatrucker",
          "<b>Topic 8</b><br>Words: thank, harry, rabbis, ari, philip"
         ],
         "marker": {
          "color": "#56B4E9"
         },
         "mode": "lines",
         "name": "8_thanks_thank_david_dan",
         "type": "scatter",
         "x": [
          "2012-04-05T12:06:55.750000",
          "2012-11-04T20:21:25.900000",
          "2013-06-06T04:35:56.050000",
          "2014-01-05T12:50:26.200000",
          "2014-08-06T21:04:56.350000",
          "2015-03-08T05:19:26.500000",
          "2015-10-07T13:33:56.650000",
          "2016-05-07T21:48:26.800000",
          "2017-07-08T14:17:27.100000",
          "2018-02-06T22:31:57.250000",
          "2018-09-08T06:46:27.400000",
          "2019-04-09T15:00:57.550000",
          "2019-11-08T23:15:27.700000",
          "2020-06-09T07:29:57.850000"
         ],
         "y": [
          1,
          160,
          32,
          14,
          3,
          7,
          6,
          7,
          4,
          4,
          6,
          35,
          43,
          23
         ]
        },
        {
         "hoverinfo": "text",
         "hovertext": [
          "<b>Topic 9</b><br>Words: thetrumpnetwork, lots, lives, through, live",
          "<b>Topic 9</b><br>Words: fragile, success, focus, requires, anything",
          "<b>Topic 9</b><br>Words: success, passion, fragile, focus, lack",
          "<b>Topic 9</b><br>Words: think, success, momentum, focus, passion",
          "<b>Topic 9</b><br>Words: champion, think, success, yourself, focus",
          "<b>Topic 9</b><br>Words: champion, success, think, passion, goals",
          "<b>Topic 9</b><br>Words: momentum, walt, yourself, focus, goals",
          "<b>Topic 9</b><br>Words: goal, mayhemsolis, flawlessly, bkrafttt, discouraged",
          "<b>Topic 9</b><br>Words: genes, stamina, assets, testify, consider",
          "<b>Topic 9</b><br>Words: pitfalls, winding, road, life, careful",
          "<b>Topic 9</b><br>Words: lonely, dark, reputation, path, same",
          "<b>Topic 9</b><br>Words: turbulent, unusual, difficult, knowledge, places"
         ],
         "marker": {
          "color": "#009E73"
         },
         "mode": "lines",
         "name": "9_champion_think_success_focus",
         "type": "scatter",
         "x": [
          "2011-02-03T19:37:55.450000",
          "2011-09-05T03:52:25.600000",
          "2012-04-05T12:06:55.750000",
          "2012-11-04T20:21:25.900000",
          "2013-06-06T04:35:56.050000",
          "2014-01-05T12:50:26.200000",
          "2014-08-06T21:04:56.350000",
          "2015-03-08T05:19:26.500000",
          "2015-10-07T13:33:56.650000",
          "2017-07-08T14:17:27.100000",
          "2019-11-08T23:15:27.700000",
          "2020-06-09T07:29:57.850000"
         ],
         "y": [
          1,
          3,
          18,
          93,
          102,
          81,
          29,
          8,
          1,
          1,
          1,
          1
         ]
        }
       ],
       "layout": {
        "height": 450,
        "hoverlabel": {
         "bgcolor": "white",
         "font": {
          "family": "Rockwell",
          "size": 16
         }
        },
        "legend": {
         "title": {
          "text": "<b>Global Topic Representation"
         }
        },
        "template": {
         "data": {
          "bar": [
           {
            "error_x": {
             "color": "rgb(36,36,36)"
            },
            "error_y": {
             "color": "rgb(36,36,36)"
            },
            "marker": {
             "line": {
              "color": "white",
              "width": 0.5
             },
             "pattern": {
              "fillmode": "overlay",
              "size": 10,
              "solidity": 0.2
             }
            },
            "type": "bar"
           }
          ],
          "barpolar": [
           {
            "marker": {
             "line": {
              "color": "white",
              "width": 0.5
             },
             "pattern": {
              "fillmode": "overlay",
              "size": 10,
              "solidity": 0.2
             }
            },
            "type": "barpolar"
           }
          ],
          "carpet": [
           {
            "aaxis": {
             "endlinecolor": "rgb(36,36,36)",
             "gridcolor": "white",
             "linecolor": "white",
             "minorgridcolor": "white",
             "startlinecolor": "rgb(36,36,36)"
            },
            "baxis": {
             "endlinecolor": "rgb(36,36,36)",
             "gridcolor": "white",
             "linecolor": "white",
             "minorgridcolor": "white",
             "startlinecolor": "rgb(36,36,36)"
            },
            "type": "carpet"
           }
          ],
          "choropleth": [
           {
            "colorbar": {
             "outlinewidth": 1,
             "tickcolor": "rgb(36,36,36)",
             "ticks": "outside"
            },
            "type": "choropleth"
           }
          ],
          "contour": [
           {
            "colorbar": {
             "outlinewidth": 1,
             "tickcolor": "rgb(36,36,36)",
             "ticks": "outside"
            },
            "colorscale": [
             [
              0,
              "#440154"
             ],
             [
              0.1111111111111111,
              "#482878"
             ],
             [
              0.2222222222222222,
              "#3e4989"
             ],
             [
              0.3333333333333333,
              "#31688e"
             ],
             [
              0.4444444444444444,
              "#26828e"
             ],
             [
              0.5555555555555556,
              "#1f9e89"
             ],
             [
              0.6666666666666666,
              "#35b779"
             ],
             [
              0.7777777777777778,
              "#6ece58"
             ],
             [
              0.8888888888888888,
              "#b5de2b"
             ],
             [
              1,
              "#fde725"
             ]
            ],
            "type": "contour"
           }
          ],
          "contourcarpet": [
           {
            "colorbar": {
             "outlinewidth": 1,
             "tickcolor": "rgb(36,36,36)",
             "ticks": "outside"
            },
            "type": "contourcarpet"
           }
          ],
          "heatmap": [
           {
            "colorbar": {
             "outlinewidth": 1,
             "tickcolor": "rgb(36,36,36)",
             "ticks": "outside"
            },
            "colorscale": [
             [
              0,
              "#440154"
             ],
             [
              0.1111111111111111,
              "#482878"
             ],
             [
              0.2222222222222222,
              "#3e4989"
             ],
             [
              0.3333333333333333,
              "#31688e"
             ],
             [
              0.4444444444444444,
              "#26828e"
             ],
             [
              0.5555555555555556,
              "#1f9e89"
             ],
             [
              0.6666666666666666,
              "#35b779"
             ],
             [
              0.7777777777777778,
              "#6ece58"
             ],
             [
              0.8888888888888888,
              "#b5de2b"
             ],
             [
              1,
              "#fde725"
             ]
            ],
            "type": "heatmap"
           }
          ],
          "heatmapgl": [
           {
            "colorbar": {
             "outlinewidth": 1,
             "tickcolor": "rgb(36,36,36)",
             "ticks": "outside"
            },
            "colorscale": [
             [
              0,
              "#440154"
             ],
             [
              0.1111111111111111,
              "#482878"
             ],
             [
              0.2222222222222222,
              "#3e4989"
             ],
             [
              0.3333333333333333,
              "#31688e"
             ],
             [
              0.4444444444444444,
              "#26828e"
             ],
             [
              0.5555555555555556,
              "#1f9e89"
             ],
             [
              0.6666666666666666,
              "#35b779"
             ],
             [
              0.7777777777777778,
              "#6ece58"
             ],
             [
              0.8888888888888888,
              "#b5de2b"
             ],
             [
              1,
              "#fde725"
             ]
            ],
            "type": "heatmapgl"
           }
          ],
          "histogram": [
           {
            "marker": {
             "line": {
              "color": "white",
              "width": 0.6
             }
            },
            "type": "histogram"
           }
          ],
          "histogram2d": [
           {
            "colorbar": {
             "outlinewidth": 1,
             "tickcolor": "rgb(36,36,36)",
             "ticks": "outside"
            },
            "colorscale": [
             [
              0,
              "#440154"
             ],
             [
              0.1111111111111111,
              "#482878"
             ],
             [
              0.2222222222222222,
              "#3e4989"
             ],
             [
              0.3333333333333333,
              "#31688e"
             ],
             [
              0.4444444444444444,
              "#26828e"
             ],
             [
              0.5555555555555556,
              "#1f9e89"
             ],
             [
              0.6666666666666666,
              "#35b779"
             ],
             [
              0.7777777777777778,
              "#6ece58"
             ],
             [
              0.8888888888888888,
              "#b5de2b"
             ],
             [
              1,
              "#fde725"
             ]
            ],
            "type": "histogram2d"
           }
          ],
          "histogram2dcontour": [
           {
            "colorbar": {
             "outlinewidth": 1,
             "tickcolor": "rgb(36,36,36)",
             "ticks": "outside"
            },
            "colorscale": [
             [
              0,
              "#440154"
             ],
             [
              0.1111111111111111,
              "#482878"
             ],
             [
              0.2222222222222222,
              "#3e4989"
             ],
             [
              0.3333333333333333,
              "#31688e"
             ],
             [
              0.4444444444444444,
              "#26828e"
             ],
             [
              0.5555555555555556,
              "#1f9e89"
             ],
             [
              0.6666666666666666,
              "#35b779"
             ],
             [
              0.7777777777777778,
              "#6ece58"
             ],
             [
              0.8888888888888888,
              "#b5de2b"
             ],
             [
              1,
              "#fde725"
             ]
            ],
            "type": "histogram2dcontour"
           }
          ],
          "mesh3d": [
           {
            "colorbar": {
             "outlinewidth": 1,
             "tickcolor": "rgb(36,36,36)",
             "ticks": "outside"
            },
            "type": "mesh3d"
           }
          ],
          "parcoords": [
           {
            "line": {
             "colorbar": {
              "outlinewidth": 1,
              "tickcolor": "rgb(36,36,36)",
              "ticks": "outside"
             }
            },
            "type": "parcoords"
           }
          ],
          "pie": [
           {
            "automargin": true,
            "type": "pie"
           }
          ],
          "scatter": [
           {
            "fillpattern": {
             "fillmode": "overlay",
             "size": 10,
             "solidity": 0.2
            },
            "type": "scatter"
           }
          ],
          "scatter3d": [
           {
            "line": {
             "colorbar": {
              "outlinewidth": 1,
              "tickcolor": "rgb(36,36,36)",
              "ticks": "outside"
             }
            },
            "marker": {
             "colorbar": {
              "outlinewidth": 1,
              "tickcolor": "rgb(36,36,36)",
              "ticks": "outside"
             }
            },
            "type": "scatter3d"
           }
          ],
          "scattercarpet": [
           {
            "marker": {
             "colorbar": {
              "outlinewidth": 1,
              "tickcolor": "rgb(36,36,36)",
              "ticks": "outside"
             }
            },
            "type": "scattercarpet"
           }
          ],
          "scattergeo": [
           {
            "marker": {
             "colorbar": {
              "outlinewidth": 1,
              "tickcolor": "rgb(36,36,36)",
              "ticks": "outside"
             }
            },
            "type": "scattergeo"
           }
          ],
          "scattergl": [
           {
            "marker": {
             "colorbar": {
              "outlinewidth": 1,
              "tickcolor": "rgb(36,36,36)",
              "ticks": "outside"
             }
            },
            "type": "scattergl"
           }
          ],
          "scattermapbox": [
           {
            "marker": {
             "colorbar": {
              "outlinewidth": 1,
              "tickcolor": "rgb(36,36,36)",
              "ticks": "outside"
             }
            },
            "type": "scattermapbox"
           }
          ],
          "scatterpolar": [
           {
            "marker": {
             "colorbar": {
              "outlinewidth": 1,
              "tickcolor": "rgb(36,36,36)",
              "ticks": "outside"
             }
            },
            "type": "scatterpolar"
           }
          ],
          "scatterpolargl": [
           {
            "marker": {
             "colorbar": {
              "outlinewidth": 1,
              "tickcolor": "rgb(36,36,36)",
              "ticks": "outside"
             }
            },
            "type": "scatterpolargl"
           }
          ],
          "scatterternary": [
           {
            "marker": {
             "colorbar": {
              "outlinewidth": 1,
              "tickcolor": "rgb(36,36,36)",
              "ticks": "outside"
             }
            },
            "type": "scatterternary"
           }
          ],
          "surface": [
           {
            "colorbar": {
             "outlinewidth": 1,
             "tickcolor": "rgb(36,36,36)",
             "ticks": "outside"
            },
            "colorscale": [
             [
              0,
              "#440154"
             ],
             [
              0.1111111111111111,
              "#482878"
             ],
             [
              0.2222222222222222,
              "#3e4989"
             ],
             [
              0.3333333333333333,
              "#31688e"
             ],
             [
              0.4444444444444444,
              "#26828e"
             ],
             [
              0.5555555555555556,
              "#1f9e89"
             ],
             [
              0.6666666666666666,
              "#35b779"
             ],
             [
              0.7777777777777778,
              "#6ece58"
             ],
             [
              0.8888888888888888,
              "#b5de2b"
             ],
             [
              1,
              "#fde725"
             ]
            ],
            "type": "surface"
           }
          ],
          "table": [
           {
            "cells": {
             "fill": {
              "color": "rgb(237,237,237)"
             },
             "line": {
              "color": "white"
             }
            },
            "header": {
             "fill": {
              "color": "rgb(217,217,217)"
             },
             "line": {
              "color": "white"
             }
            },
            "type": "table"
           }
          ]
         },
         "layout": {
          "annotationdefaults": {
           "arrowhead": 0,
           "arrowwidth": 1
          },
          "autotypenumbers": "strict",
          "coloraxis": {
           "colorbar": {
            "outlinewidth": 1,
            "tickcolor": "rgb(36,36,36)",
            "ticks": "outside"
           }
          },
          "colorscale": {
           "diverging": [
            [
             0,
             "rgb(103,0,31)"
            ],
            [
             0.1,
             "rgb(178,24,43)"
            ],
            [
             0.2,
             "rgb(214,96,77)"
            ],
            [
             0.3,
             "rgb(244,165,130)"
            ],
            [
             0.4,
             "rgb(253,219,199)"
            ],
            [
             0.5,
             "rgb(247,247,247)"
            ],
            [
             0.6,
             "rgb(209,229,240)"
            ],
            [
             0.7,
             "rgb(146,197,222)"
            ],
            [
             0.8,
             "rgb(67,147,195)"
            ],
            [
             0.9,
             "rgb(33,102,172)"
            ],
            [
             1,
             "rgb(5,48,97)"
            ]
           ],
           "sequential": [
            [
             0,
             "#440154"
            ],
            [
             0.1111111111111111,
             "#482878"
            ],
            [
             0.2222222222222222,
             "#3e4989"
            ],
            [
             0.3333333333333333,
             "#31688e"
            ],
            [
             0.4444444444444444,
             "#26828e"
            ],
            [
             0.5555555555555556,
             "#1f9e89"
            ],
            [
             0.6666666666666666,
             "#35b779"
            ],
            [
             0.7777777777777778,
             "#6ece58"
            ],
            [
             0.8888888888888888,
             "#b5de2b"
            ],
            [
             1,
             "#fde725"
            ]
           ],
           "sequentialminus": [
            [
             0,
             "#440154"
            ],
            [
             0.1111111111111111,
             "#482878"
            ],
            [
             0.2222222222222222,
             "#3e4989"
            ],
            [
             0.3333333333333333,
             "#31688e"
            ],
            [
             0.4444444444444444,
             "#26828e"
            ],
            [
             0.5555555555555556,
             "#1f9e89"
            ],
            [
             0.6666666666666666,
             "#35b779"
            ],
            [
             0.7777777777777778,
             "#6ece58"
            ],
            [
             0.8888888888888888,
             "#b5de2b"
            ],
            [
             1,
             "#fde725"
            ]
           ]
          },
          "colorway": [
           "#1F77B4",
           "#FF7F0E",
           "#2CA02C",
           "#D62728",
           "#9467BD",
           "#8C564B",
           "#E377C2",
           "#7F7F7F",
           "#BCBD22",
           "#17BECF"
          ],
          "font": {
           "color": "rgb(36,36,36)"
          },
          "geo": {
           "bgcolor": "white",
           "lakecolor": "white",
           "landcolor": "white",
           "showlakes": true,
           "showland": true,
           "subunitcolor": "white"
          },
          "hoverlabel": {
           "align": "left"
          },
          "hovermode": "closest",
          "mapbox": {
           "style": "light"
          },
          "paper_bgcolor": "white",
          "plot_bgcolor": "white",
          "polar": {
           "angularaxis": {
            "gridcolor": "rgb(232,232,232)",
            "linecolor": "rgb(36,36,36)",
            "showgrid": false,
            "showline": true,
            "ticks": "outside"
           },
           "bgcolor": "white",
           "radialaxis": {
            "gridcolor": "rgb(232,232,232)",
            "linecolor": "rgb(36,36,36)",
            "showgrid": false,
            "showline": true,
            "ticks": "outside"
           }
          },
          "scene": {
           "xaxis": {
            "backgroundcolor": "white",
            "gridcolor": "rgb(232,232,232)",
            "gridwidth": 2,
            "linecolor": "rgb(36,36,36)",
            "showbackground": true,
            "showgrid": false,
            "showline": true,
            "ticks": "outside",
            "zeroline": false,
            "zerolinecolor": "rgb(36,36,36)"
           },
           "yaxis": {
            "backgroundcolor": "white",
            "gridcolor": "rgb(232,232,232)",
            "gridwidth": 2,
            "linecolor": "rgb(36,36,36)",
            "showbackground": true,
            "showgrid": false,
            "showline": true,
            "ticks": "outside",
            "zeroline": false,
            "zerolinecolor": "rgb(36,36,36)"
           },
           "zaxis": {
            "backgroundcolor": "white",
            "gridcolor": "rgb(232,232,232)",
            "gridwidth": 2,
            "linecolor": "rgb(36,36,36)",
            "showbackground": true,
            "showgrid": false,
            "showline": true,
            "ticks": "outside",
            "zeroline": false,
            "zerolinecolor": "rgb(36,36,36)"
           }
          },
          "shapedefaults": {
           "fillcolor": "black",
           "line": {
            "width": 0
           },
           "opacity": 0.3
          },
          "ternary": {
           "aaxis": {
            "gridcolor": "rgb(232,232,232)",
            "linecolor": "rgb(36,36,36)",
            "showgrid": false,
            "showline": true,
            "ticks": "outside"
           },
           "baxis": {
            "gridcolor": "rgb(232,232,232)",
            "linecolor": "rgb(36,36,36)",
            "showgrid": false,
            "showline": true,
            "ticks": "outside"
           },
           "bgcolor": "white",
           "caxis": {
            "gridcolor": "rgb(232,232,232)",
            "linecolor": "rgb(36,36,36)",
            "showgrid": false,
            "showline": true,
            "ticks": "outside"
           }
          },
          "title": {
           "x": 0.05
          },
          "xaxis": {
           "automargin": true,
           "gridcolor": "rgb(232,232,232)",
           "linecolor": "rgb(36,36,36)",
           "showgrid": false,
           "showline": true,
           "ticks": "outside",
           "title": {
            "standoff": 15
           },
           "zeroline": false,
           "zerolinecolor": "rgb(36,36,36)"
          },
          "yaxis": {
           "automargin": true,
           "gridcolor": "rgb(232,232,232)",
           "linecolor": "rgb(36,36,36)",
           "showgrid": false,
           "showline": true,
           "ticks": "outside",
           "title": {
            "standoff": 15
           },
           "zeroline": false,
           "zerolinecolor": "rgb(36,36,36)"
          }
         }
        },
        "title": {
         "font": {
          "color": "Black",
          "size": 22
         },
         "text": "<b>Topics over Time</b>",
         "x": 0.4,
         "xanchor": "center",
         "y": 0.95,
         "yanchor": "top"
        },
        "width": 1250,
        "xaxis": {
         "showgrid": true
        },
        "yaxis": {
         "showgrid": true,
         "title": {
          "text": "Frequency"
         }
        }
       }
      }
     },
     "metadata": {},
     "output_type": "display_data"
    }
   ],
   "source": [
    "topic_model.visualize_topics_over_time(topics_over_time, top_n_topics=10)\n"
   ]
  },
  {
   "cell_type": "code",
   "execution_count": null,
   "metadata": {},
   "outputs": [],
   "source": []
  }
 ],
 "metadata": {
  "kernelspec": {
   "display_name": "datascience",
   "language": "python",
   "name": "python3"
  },
  "language_info": {
   "codemirror_mode": {
    "name": "ipython",
    "version": 3
   },
   "file_extension": ".py",
   "mimetype": "text/x-python",
   "name": "python",
   "nbconvert_exporter": "python",
   "pygments_lexer": "ipython3",
   "version": "3.10.15"
  }
 },
 "nbformat": 4,
 "nbformat_minor": 2
}
