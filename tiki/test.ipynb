{
 "cells": [
  {
   "cell_type": "code",
   "execution_count": 1,
   "metadata": {},
   "outputs": [
    {
     "ename": "ModuleNotFoundError",
     "evalue": "No module named 'nltk'",
     "output_type": "error",
     "traceback": [
      "\u001b[1;31m---------------------------------------------------------------------------\u001b[0m",
      "\u001b[1;31mModuleNotFoundError\u001b[0m                       Traceback (most recent call last)",
      "Cell \u001b[1;32mIn[1], line 1\u001b[0m\n\u001b[1;32m----> 1\u001b[0m \u001b[38;5;28;01mimport\u001b[39;00m \u001b[38;5;21;01mnltk\u001b[39;00m\u001b[38;5;21;01m.\u001b[39;00m\u001b[38;5;21;01mstem\u001b[39;00m\n\u001b[0;32m      2\u001b[0m \u001b[38;5;28;01mfrom\u001b[39;00m \u001b[38;5;21;01mbertopic\u001b[39;00m \u001b[38;5;28;01mimport\u001b[39;00m BERTopic\n\u001b[0;32m      3\u001b[0m \u001b[38;5;28;01mfrom\u001b[39;00m \u001b[38;5;21;01mbertopic\u001b[39;00m\u001b[38;5;21;01m.\u001b[39;00m\u001b[38;5;21;01mvectorizers\u001b[39;00m \u001b[38;5;28;01mimport\u001b[39;00m ClassTfidfTransformer\n",
      "\u001b[1;31mModuleNotFoundError\u001b[0m: No module named 'nltk'"
     ]
    }
   ],
   "source": [
    "import nltk.stem\n",
    "from bertopic import BERTopic\n",
    "from bertopic.vectorizers import ClassTfidfTransformer\n",
    "from sklearn.feature_extraction.text import CountVectorizer\n",
    "from sentence_transformers import SentenceTransformer\n",
    "from hdbscan import HDBSCAN"
   ]
  },
  {
   "cell_type": "code",
   "execution_count": null,
   "metadata": {},
   "outputs": [],
   "source": [
    "english_stemmer = nltk.stem.SnowballStemmer('english') \n",
    "class StemmedCountVectorizer(CountVectorizer):\n",
    "    def build_analyzer(self):\n",
    "        analyzer = super(StemmedCountVectorizer, self).build_analyzer()\n",
    "        return lambda doc: ([english_stemmer.stem(w) for w in analyzer(doc)])\n",
    "\n",
    "def train_bert(docs,model_path):\n",
    "    embedding_model = SentenceTransformer(\"all-MiniLM-L6-v2\")\n",
    "\n",
    "    # Clustering model: See [2] for more details\n",
    "    cluster_model = HDBSCAN(min_cluster_size = 15, \n",
    "                            metric = 'euclidean', \n",
    "                            cluster_selection_method = 'eom', \n",
    "                            prediction_data = True)\n",
    "    \n",
    "    #Explicitly define, use, and adjust the ClassTfidfTransformer with new parameters, \n",
    "    #bm25_weighting and reduce_frequent_words, to potentially improve the topic representation\n",
    "    ctfidf_model = ClassTfidfTransformer(bm25_weighting=True)                         \n",
    "    #vectorizer_model = CountVectorizer(stop_words=\"english\", ngram_range=(1, 2))\n",
    "    vectorizer_model = StemmedCountVectorizer(analyzer=\"word\",stop_words=\"english\", ngram_range=(1, 2))\n",
    "\n",
    "    # BERTopic model\n",
    "    topic_model = BERTopic(embedding_model = embedding_model,\n",
    "                           hdbscan_model = cluster_model,\n",
    "                           ctfidf_model=ctfidf_model,\n",
    "                           vectorizer_model=vectorizer_model,\n",
    "                           language=\"english\")\n",
    "\n",
    "    # Fit the model on a corpus\n",
    "    topics, probs = topic_model.fit_transform(docs)\n",
    "    # topic_model.save(model_path)\n",
    "    return topic_model\n",
    "\n",
    "def load_bert(model_path):\n",
    "    topic_model = BERTopic.load(model_path)\n",
    "    return topic_model"
   ]
  },
  {
   "cell_type": "code",
   "execution_count": null,
   "metadata": {},
   "outputs": [],
   "source": [
    "import pandas as pd\n",
    "\n",
    "# Đọc file CSV vào DataFrame\n",
    "df = pd.read_csv('thiet-bi-kts-phu-kien-so.csv')\n",
    "\n",
    "docs = df['Translated Text'].tolist()\n",
    "\n",
    "\n",
    "# Hiển thị DataFrame sau khi thêm cột\n",
    "print(docs[1])"
   ]
  },
  {
   "cell_type": "code",
   "execution_count": null,
   "metadata": {},
   "outputs": [],
   "source": [
    "docs_train =[]\n",
    "for doc in docs:\n",
    "    docs_train.append(str(doc))"
   ]
  },
  {
   "cell_type": "markdown",
   "metadata": {},
   "source": [
    "# Chăm sóc nhà cửa"
   ]
  },
  {
   "cell_type": "code",
   "execution_count": null,
   "metadata": {},
   "outputs": [],
   "source": [
    "print('Start training!')\n",
    "topic_model = train_bert(docs_train,\"model\")\n",
    "print('End training!')\n",
    "print(topic_model.get_topic_freq().head())"
   ]
  },
  {
   "cell_type": "code",
   "execution_count": null,
   "metadata": {},
   "outputs": [],
   "source": [
    "pd.set_option('display.width', None)        # Hiển thị bảng mà không cắt theo chiều rộng\n",
    "\n",
    "freq_df = topic_model.get_topic_info()\n",
    "print(\"Number of topics: {}\".format( len(freq_df)))\n",
    "freq_df['Percentage'] = round(freq_df['Count']/freq_df['Count'].sum() * 100,2)\n",
    "freq_df = freq_df.iloc[:,[0,1,3,2]]\n",
    "freq_df.head(10)"
   ]
  },
  {
   "cell_type": "code",
   "execution_count": null,
   "metadata": {},
   "outputs": [],
   "source": [
    "fig1 = topic_model.visualize_topics()\n",
    "fig1.show()"
   ]
  },
  {
   "cell_type": "code",
   "execution_count": null,
   "metadata": {},
   "outputs": [],
   "source": [
    "# Save topic-terms barcharts as HTML file\n",
    "fig2 = topic_model.visualize_barchart(top_n_topics = 10)\n",
    "fig2.show()"
   ]
  },
  {
   "cell_type": "code",
   "execution_count": null,
   "metadata": {},
   "outputs": [],
   "source": [
    "# Save documents projection as HTML file\n",
    "fig3 = topic_model.visualize_documents(docs)\n",
    "fig3.show()"
   ]
  },
  {
   "cell_type": "code",
   "execution_count": null,
   "metadata": {},
   "outputs": [],
   "source": [
    "# Save topics dendrogram as HTML file\n",
    "fig4 = topic_model.visualize_hierarchy()\n",
    "fig4.show()"
   ]
  },
  {
   "cell_type": "code",
   "execution_count": null,
   "metadata": {},
   "outputs": [],
   "source": [
    "fig5 = topic_model.visualize_heatmap(n_clusters=10, width=1000, height=1000)\n",
    "fig5.show()"
   ]
  },
  {
   "cell_type": "markdown",
   "metadata": {},
   "source": [
    "# Thiết bị kts"
   ]
  },
  {
   "cell_type": "code",
   "execution_count": null,
   "metadata": {},
   "outputs": [],
   "source": [
    "print('Start training!')\n",
    "topic_model = train_bert(docs_train,\"model\")\n",
    "print('End training!')\n",
    "print(topic_model.get_topic_freq().head())"
   ]
  },
  {
   "cell_type": "code",
   "execution_count": null,
   "metadata": {},
   "outputs": [],
   "source": [
    "freq_df = topic_model.get_topic_info()\n",
    "print(\"Number of topics: {}\".format( len(freq_df)))\n",
    "freq_df['Percentage'] = round(freq_df['Count']/freq_df['Count'].sum() * 100,2)\n",
    "freq_df = freq_df.iloc[:,[0,1,3,2]]\n",
    "freq_df.head(10)"
   ]
  },
  {
   "cell_type": "code",
   "execution_count": null,
   "metadata": {},
   "outputs": [],
   "source": [
    "fig1 = topic_model.visualize_topics()\n",
    "fig1.show()"
   ]
  },
  {
   "cell_type": "code",
   "execution_count": null,
   "metadata": {},
   "outputs": [],
   "source": [
    "# Save topic-terms barcharts as HTML file\n",
    "fig2 = topic_model.visualize_barchart(top_n_topics = 10)\n",
    "fig2.show()"
   ]
  },
  {
   "cell_type": "code",
   "execution_count": null,
   "metadata": {},
   "outputs": [],
   "source": [
    "# Save documents projection as HTML file\n",
    "fig3 = topic_model.visualize_documents(docs)\n",
    "fig3.show()"
   ]
  },
  {
   "cell_type": "code",
   "execution_count": null,
   "metadata": {},
   "outputs": [],
   "source": [
    "# Save topics dendrogram as HTML file\n",
    "fig4 = topic_model.visualize_hierarchy()\n",
    "fig4.show()"
   ]
  },
  {
   "cell_type": "code",
   "execution_count": null,
   "metadata": {},
   "outputs": [],
   "source": [
    "fig5 = topic_model.visualize_heatmap(n_clusters=10, width=1000, height=1000)\n",
    "fig5.show()"
   ]
  }
 ],
 "metadata": {
  "kernelspec": {
   "display_name": "Python 3",
   "language": "python",
   "name": "python3"
  },
  "language_info": {
   "codemirror_mode": {
    "name": "ipython",
    "version": 3
   },
   "file_extension": ".py",
   "mimetype": "text/x-python",
   "name": "python",
   "nbconvert_exporter": "python",
   "pygments_lexer": "ipython3",
   "version": "3.11.9"
  }
 },
 "nbformat": 4,
 "nbformat_minor": 2
}
